{
 "cells": [
  {
   "cell_type": "code",
   "execution_count": 2,
   "metadata": {},
   "outputs": [],
   "source": [
    "import torch\n",
    "from torch import nn\n",
    "from torch.utils.data import DataLoader\n",
    "from torchvision import datasets\n",
    "from torchvision.transforms import ToTensor, Lambda"
   ]
  },
  {
   "cell_type": "code",
   "execution_count": 4,
   "metadata": {},
   "outputs": [],
   "source": [
    "training_data = datasets.FashionMNIST(root=\"../data/\", train=True, download=False, transform=ToTensor())\n",
    "test_data = datasets.FashionMNIST(root=\"../data/\", train=False, download=False, transform=ToTensor())"
   ]
  },
  {
   "cell_type": "code",
   "execution_count": 5,
   "metadata": {},
   "outputs": [],
   "source": [
    "train_dataloader = DataLoader(training_data, batch_size=64)\n",
    "test_dataloader = DataLoader(test_data, batch_size=64)"
   ]
  },
  {
   "cell_type": "code",
   "execution_count": 6,
   "metadata": {},
   "outputs": [],
   "source": [
    "class NeuralNetwork(nn.Module):\n",
    "    def __init__(self):\n",
    "        super(NeuralNetwork, self).__init__()\n",
    "        self.flatten = nn.Flatten()\n",
    "        self.linear_relu_stack = nn.Sequential(nn.Linear(28*28, 512), nn.ReLU(),\n",
    "                                               nn.Linear(512, 512), nn.ReLU(),\n",
    "                                               nn.Linear(512, 16))\n",
    "    \n",
    "    def forward(self, x):\n",
    "        x = self.flatten(x)\n",
    "        logits = self.linear_relu_stack(x)\n",
    "        return logits\n",
    "    \n",
    "model = NeuralNetwork()"
   ]
  },
  {
   "cell_type": "code",
   "execution_count": 7,
   "metadata": {},
   "outputs": [],
   "source": [
    "loss_fn = nn.CrossEntropyLoss()"
   ]
  },
  {
   "cell_type": "code",
   "execution_count": 10,
   "metadata": {},
   "outputs": [],
   "source": [
    "#hyperparameters\n",
    "learning_rate = 1e-3\n",
    "batch_size = 64\n",
    "epochs = 5\n"
   ]
  },
  {
   "cell_type": "code",
   "execution_count": 13,
   "metadata": {},
   "outputs": [],
   "source": [
    "# 至少要传入两个参数，一个时需要训练的参数，另一个时学习率\n",
    "optimizer = torch.optim.SGD(model.parameters(), lr = learning_rate)\n"
   ]
  },
  {
   "cell_type": "code",
   "execution_count": 11,
   "metadata": {},
   "outputs": [],
   "source": [
    "def train_loop(dataloader, model, loss_fn, optimizer):\n",
    "    size = len(dataloader)\n",
    "    for batch, (X, y) in enumerate(dataloader):\n",
    "        pred = model(X)\n",
    "        loss = loss_fn(pred, y)\n",
    "\n",
    "        optimizer.zero_grad()\n",
    "        loss.backward()\n",
    "        optimizer.step()\n",
    "\n",
    "        if batch % 100 == 0:\n",
    "            loss, current = loss.item(), batch * len(X)\n",
    "            print(f\"loss: {loss:>7f}  [{current:>5d}/{size:>5d}]\")\n",
    "\n",
    "def test_loop(dataloader, model, loss_fn):\n",
    "    size = len(dataloader.dataset)\n",
    "    num_batches = len(dataloader)\n",
    "    test_loss, correct = 0, 0\n",
    "\n",
    "    with torch.no_grad():\n",
    "        for X, y in dataloader:\n",
    "            pred = model(X)\n",
    "            test_loss += loss_fn(pred, y).item()\n",
    "            correct += (pred.argmax(1) == y).type(torch.float).sum().item()\n",
    "        \n",
    "    test_loss /= num_batches\n",
    "    correct /= size\n",
    "    print(f\"Test Error:\\n Accuracy: {100*correct:>.1f}%, Avg loss: {test_loss:>8f} \\n\")"
   ]
  },
  {
   "cell_type": "code",
   "execution_count": 14,
   "metadata": {},
   "outputs": [
    {
     "name": "stdout",
     "output_type": "stream",
     "text": [
      "loss: 2.775205  [    0/  938]\n",
      "loss: 2.747039  [ 6400/  938]\n",
      "loss: 2.709623  [12800/  938]\n",
      "loss: 2.687299  [19200/  938]\n",
      "loss: 2.636933  [25600/  938]\n",
      "loss: 2.578688  [32000/  938]\n",
      "loss: 2.564315  [38400/  938]\n",
      "loss: 2.491624  [44800/  938]\n",
      "loss: 2.463699  [51200/  938]\n",
      "loss: 2.393263  [57600/  938]\n",
      "Test Error:\n",
      " Accuracy: 27.1%, Avg loss: 2.371620 \n",
      "\n",
      "loss: 2.379606  [    0/  938]\n",
      "loss: 2.357821  [ 6400/  938]\n",
      "loss: 2.251270  [12800/  938]\n",
      "loss: 2.274526  [19200/  938]\n",
      "loss: 2.194900  [25600/  938]\n",
      "loss: 2.078989  [32000/  938]\n",
      "loss: 2.138169  [38400/  938]\n",
      "loss: 2.023787  [44800/  938]\n",
      "loss: 2.036439  [51200/  938]\n",
      "loss: 1.929286  [57600/  938]\n",
      "Test Error:\n",
      " Accuracy: 56.4%, Avg loss: 1.931481 \n",
      "\n",
      "loss: 1.965928  [    0/  938]\n",
      "loss: 1.925365  [ 6400/  938]\n",
      "loss: 1.787874  [12800/  938]\n",
      "loss: 1.840065  [19200/  938]\n",
      "loss: 1.711188  [25600/  938]\n",
      "loss: 1.649226  [32000/  938]\n",
      "loss: 1.665696  [38400/  938]\n",
      "loss: 1.567607  [44800/  938]\n",
      "loss: 1.588728  [51200/  938]\n",
      "loss: 1.461478  [57600/  938]\n",
      "Test Error:\n",
      " Accuracy: 63.2%, Avg loss: 1.497777 \n",
      "\n",
      "loss: 1.560173  [    0/  938]\n",
      "loss: 1.527331  [ 6400/  938]\n",
      "loss: 1.371467  [12800/  938]\n",
      "loss: 1.456909  [19200/  938]\n",
      "loss: 1.323095  [25600/  938]\n",
      "loss: 1.324243  [32000/  938]\n",
      "loss: 1.333245  [38400/  938]\n",
      "loss: 1.265699  [44800/  938]\n",
      "loss: 1.300914  [51200/  938]\n",
      "loss: 1.192380  [57600/  938]\n",
      "Test Error:\n",
      " Accuracy: 63.8%, Avg loss: 1.227863 \n",
      "\n",
      "loss: 1.296408  [    0/  938]\n",
      "loss: 1.285121  [ 6400/  938]\n",
      "loss: 1.116634  [12800/  938]\n",
      "loss: 1.236982  [19200/  938]\n",
      "loss: 1.104078  [25600/  938]\n",
      "loss: 1.129474  [32000/  938]\n",
      "loss: 1.150299  [38400/  938]\n",
      "loss: 1.091549  [44800/  938]\n",
      "loss: 1.136139  [51200/  938]\n",
      "loss: 1.045224  [57600/  938]\n",
      "Test Error:\n",
      " Accuracy: 64.8%, Avg loss: 1.072038 \n",
      "\n"
     ]
    }
   ],
   "source": [
    "for t in range(epochs):\n",
    "    train_loop(train_dataloader, model, loss_fn, optimizer)\n",
    "    test_loop(test_dataloader, model, loss_fn)"
   ]
  },
  {
   "cell_type": "code",
   "execution_count": null,
   "metadata": {},
   "outputs": [],
   "source": []
  },
  {
   "cell_type": "code",
   "execution_count": null,
   "metadata": {},
   "outputs": [],
   "source": []
  },
  {
   "cell_type": "code",
   "execution_count": null,
   "metadata": {},
   "outputs": [],
   "source": []
  },
  {
   "cell_type": "code",
   "execution_count": null,
   "metadata": {},
   "outputs": [],
   "source": []
  },
  {
   "cell_type": "code",
   "execution_count": null,
   "metadata": {},
   "outputs": [],
   "source": []
  },
  {
   "cell_type": "code",
   "execution_count": null,
   "metadata": {},
   "outputs": [],
   "source": []
  },
  {
   "cell_type": "code",
   "execution_count": null,
   "metadata": {},
   "outputs": [],
   "source": []
  }
 ],
 "metadata": {
  "kernelspec": {
   "display_name": "Python 3.8.0 ('pytorch')",
   "language": "python",
   "name": "python3"
  },
  "language_info": {
   "codemirror_mode": {
    "name": "ipython",
    "version": 3
   },
   "file_extension": ".py",
   "mimetype": "text/x-python",
   "name": "python",
   "nbconvert_exporter": "python",
   "pygments_lexer": "ipython3",
   "version": "3.8.0"
  },
  "orig_nbformat": 4,
  "vscode": {
   "interpreter": {
    "hash": "68bbaa56cd7a8aaf99da59ee564ba6fece28aac9bfdf62dbba1eea199e6b93d7"
   }
  }
 },
 "nbformat": 4,
 "nbformat_minor": 2
}
