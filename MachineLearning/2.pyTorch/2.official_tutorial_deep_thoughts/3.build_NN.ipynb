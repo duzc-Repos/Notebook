{
 "cells": [
  {
   "cell_type": "code",
   "execution_count": 4,
   "metadata": {},
   "outputs": [],
   "source": [
    "import os\n",
    "import torch\n",
    "from torch import nn\n",
    "from torch.utils.data import DataLoader\n",
    "from torchvision import datasets, transforms"
   ]
  },
  {
   "cell_type": "code",
   "execution_count": 2,
   "metadata": {},
   "outputs": [
    {
     "data": {
      "text/plain": [
       "'cuda'"
      ]
     },
     "execution_count": 2,
     "metadata": {},
     "output_type": "execute_result"
    }
   ],
   "source": [
    "device = 'cuda' if torch.cuda.is_available() else 'cpu'\n",
    "device"
   ]
  },
  {
   "cell_type": "markdown",
   "metadata": {},
   "source": [
    "## `nn.Module`\n",
    "* 必须有`__init__`和`forward()`方法\n",
    "* 其他方法：\n",
    "    * `add_module(name, module)`\n",
    "    * `apply(fn)`: 对每个submodule应用fn函数，一般用在模型参数初始化\n",
    "    * `bfloat16()`: 转换所有的浮点类型，不改变int\n",
    "    * `buffers()`: 每个参数有一个附属的统计信息（size, type, e.etc.），称为buffer。也可以成为一个模块的状态\n",
    "    * `cpu(), cuda()`: parameters, buffers移动到相应设备上\n",
    "    * `eval()`: 跟train模式主要在Dropout和BatchNorm上有所不同\n",
    "    * `get_parameter(string), get_submodule(str)`\n",
    "    * `load_state_dict(state_dict, strict=True)`: 载入参数和buffer\n",
    "    * `named_parameters()`\n",
    "    * `requires_grad_(bool)`: 是否需要梯度下降参数更新？\n"
   ]
  },
  {
   "cell_type": "code",
   "execution_count": 6,
   "metadata": {},
   "outputs": [],
   "source": [
    "class NeuralNetwork(nn.Module):\n",
    "    def __init__(self): # 初始化参数，定义用到的 层/模块\n",
    "        super(NeuralNetwork, self).__init__()\n",
    "        self.flatten = nn.Flatten() #start_dim=1, end_dim=-1, 第一个维度是batchsize，默认不进行flatten\n",
    "        self.linear_relu_stack = nn.Sequential(nn.Linear(28*28, 512), nn.ReLU(),\n",
    "                                               nn.Linear(512, 512), nn.ReLU(),\n",
    "                                               nn.Linear(512, 10)) #按照顺序传入一些层\n",
    "    \n",
    "    def forward(self, x): \n",
    "        x = self.flatten(x)\n",
    "        logits = self.linear_relu_stack(x)\n",
    "        return logits"
   ]
  },
  {
   "cell_type": "code",
   "execution_count": 8,
   "metadata": {},
   "outputs": [
    {
     "name": "stdout",
     "output_type": "stream",
     "text": [
      "NeuralNetwork(\n",
      "  (flatten): Flatten(start_dim=1, end_dim=-1)\n",
      "  (linear_relu_stack): Sequential(\n",
      "    (0): Linear(in_features=784, out_features=512, bias=True)\n",
      "    (1): ReLU()\n",
      "    (2): Linear(in_features=512, out_features=512, bias=True)\n",
      "    (3): ReLU()\n",
      "    (4): Linear(in_features=512, out_features=10, bias=True)\n",
      "  )\n",
      ")\n"
     ]
    }
   ],
   "source": [
    "model = NeuralNetwork().to(device) # 把模型放到GPU内存中\n",
    "print(model)"
   ]
  },
  {
   "cell_type": "code",
   "execution_count": 9,
   "metadata": {},
   "outputs": [
    {
     "data": {
      "text/plain": [
       "tensor([3], device='cuda:0')"
      ]
     },
     "execution_count": 9,
     "metadata": {},
     "output_type": "execute_result"
    }
   ],
   "source": [
    "X = torch.rand(1, 28, 28, device=device)\n",
    "logits = model(X)\n",
    "pred_probab = nn.Softmax(dim=1)(logits)\n",
    "y_pred = pred_probab.argmax(dim=1)\n",
    "y_pred"
   ]
  },
  {
   "cell_type": "code",
   "execution_count": 11,
   "metadata": {},
   "outputs": [
    {
     "data": {
      "text/plain": [
       "torch.Size([1, 784])"
      ]
     },
     "execution_count": 11,
     "metadata": {},
     "output_type": "execute_result"
    }
   ],
   "source": [
    "flatten = nn.Flatten()\n",
    "flatten(X).size()"
   ]
  },
  {
   "cell_type": "code",
   "execution_count": 16,
   "metadata": {},
   "outputs": [
    {
     "name": "stdout",
     "output_type": "stream",
     "text": [
      "linear_relu_stack.0.weight torch.Size([512, 784]) tensor([[ 0.0038,  0.0113, -0.0304,  ..., -0.0030,  0.0247,  0.0317],\n",
      "        [-0.0342, -0.0272,  0.0207,  ..., -0.0004, -0.0086,  0.0351]],\n",
      "       device='cuda:0', grad_fn=<SliceBackward0>)\n",
      "linear_relu_stack.0.bias torch.Size([512]) tensor([0.0234, 0.0142], device='cuda:0', grad_fn=<SliceBackward0>)\n",
      "linear_relu_stack.2.weight torch.Size([512, 512]) tensor([[-0.0423,  0.0232, -0.0307,  ...,  0.0003,  0.0152,  0.0198],\n",
      "        [-0.0026,  0.0210, -0.0260,  ...,  0.0045, -0.0164,  0.0418]],\n",
      "       device='cuda:0', grad_fn=<SliceBackward0>)\n",
      "linear_relu_stack.2.bias torch.Size([512]) tensor([0.0343, 0.0355], device='cuda:0', grad_fn=<SliceBackward0>)\n",
      "linear_relu_stack.4.weight torch.Size([10, 512]) tensor([[-0.0063, -0.0306, -0.0329,  ..., -0.0324, -0.0285,  0.0027],\n",
      "        [-0.0033,  0.0176, -0.0400,  ..., -0.0416, -0.0363,  0.0387]],\n",
      "       device='cuda:0', grad_fn=<SliceBackward0>)\n",
      "linear_relu_stack.4.bias torch.Size([10]) tensor([-0.0169, -0.0008], device='cuda:0', grad_fn=<SliceBackward0>)\n"
     ]
    }
   ],
   "source": [
    "for name, param in model.named_parameters():\n",
    "    print(name, param.size(), param[:2])"
   ]
  },
  {
   "cell_type": "code",
   "execution_count": 17,
   "metadata": {},
   "outputs": [
    {
     "data": {
      "text/plain": [
       "Parameter containing:\n",
       "tensor([-0.0169, -0.0008, -0.0041,  0.0251, -0.0143,  0.0183, -0.0019, -0.0154,\n",
       "         0.0146,  0.0401], device='cuda:0', requires_grad=True)"
      ]
     },
     "execution_count": 17,
     "metadata": {},
     "output_type": "execute_result"
    }
   ],
   "source": [
    "param"
   ]
  },
  {
   "cell_type": "code",
   "execution_count": 4,
   "metadata": {},
   "outputs": [],
   "source": [
    "import torch\n",
    "import torch.nn as nn\n",
    "import torch.nn.functional as F"
   ]
  },
  {
   "cell_type": "code",
   "execution_count": 5,
   "metadata": {},
   "outputs": [],
   "source": [
    "class Model(nn.Module):\n",
    "    def __init__(self):\n",
    "        super(Model, self).__init__()\n",
    "        self.conv1 = nn.Conv2d(1, 20, 5)\n",
    "        self.conv2 = nn.Conv2d(20, 20, 5)\n",
    "    \n",
    "    def forward(self, x):\n",
    "        x = F.relu(self.conv1(x))\n",
    "        return F.relu(self.conv2(x))"
   ]
  },
  {
   "cell_type": "code",
   "execution_count": 7,
   "metadata": {},
   "outputs": [
    {
     "name": "stdout",
     "output_type": "stream",
     "text": [
      "Linear(in_features=2, out_features=2, bias=True)\n",
      "Parameter containing:\n",
      "tensor([[1., 1.],\n",
      "        [1., 1.]], requires_grad=True)\n",
      "Linear(in_features=2, out_features=2, bias=True)\n",
      "Parameter containing:\n",
      "tensor([[1., 1.],\n",
      "        [1., 1.]], requires_grad=True)\n",
      "Sequential(\n",
      "  (0): Linear(in_features=2, out_features=2, bias=True)\n",
      "  (1): Linear(in_features=2, out_features=2, bias=True)\n",
      ")\n"
     ]
    },
    {
     "data": {
      "text/plain": [
       "Sequential(\n",
       "  (0): Linear(in_features=2, out_features=2, bias=True)\n",
       "  (1): Linear(in_features=2, out_features=2, bias=True)\n",
       ")"
      ]
     },
     "execution_count": 7,
     "metadata": {},
     "output_type": "execute_result"
    }
   ],
   "source": [
    "@torch.no_grad() #这个函数里面不需要进行梯度运算\n",
    "def init_weights(m):\n",
    "    print(m)\n",
    "    if type(m) == nn.Linear:\n",
    "        m.weight.fill_(1.0)\n",
    "        print(m.weight)\n",
    "\n",
    "net = nn.Sequential(nn.Linear(2, 2), nn.Linear(2, 2))\n",
    "net.apply(init_weights)"
   ]
  },
  {
   "cell_type": "code",
   "execution_count": null,
   "metadata": {},
   "outputs": [],
   "source": []
  },
  {
   "cell_type": "code",
   "execution_count": null,
   "metadata": {},
   "outputs": [],
   "source": []
  },
  {
   "cell_type": "code",
   "execution_count": null,
   "metadata": {},
   "outputs": [],
   "source": []
  }
 ],
 "metadata": {
  "kernelspec": {
   "display_name": "Python 3.8.0 ('pytorch')",
   "language": "python",
   "name": "python3"
  },
  "language_info": {
   "codemirror_mode": {
    "name": "ipython",
    "version": 3
   },
   "file_extension": ".py",
   "mimetype": "text/x-python",
   "name": "python",
   "nbconvert_exporter": "python",
   "pygments_lexer": "ipython3",
   "version": "3.8.0"
  },
  "orig_nbformat": 4,
  "vscode": {
   "interpreter": {
    "hash": "68bbaa56cd7a8aaf99da59ee564ba6fece28aac9bfdf62dbba1eea199e6b93d7"
   }
  }
 },
 "nbformat": 4,
 "nbformat_minor": 2
}
