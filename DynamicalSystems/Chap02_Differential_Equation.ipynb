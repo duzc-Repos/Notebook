{
 "cells": [
  {
   "cell_type": "code",
   "execution_count": 180,
   "source": [
    "import sympy as sym\n",
    "import numpy as np\n",
    "import matplotlib.pyplot as plt\n",
    "from scipy.integrate import odeint"
   ],
   "outputs": [],
   "metadata": {}
  },
  {
   "cell_type": "markdown",
   "source": [
    "# 2.1 Review ODEs"
   ],
   "metadata": {}
  },
  {
   "cell_type": "markdown",
   "source": [
    "## Integrating factor\n",
    "$\\frac{{\\rm d}x(t)}{{\\rm d}t} + P(t)x(t) = Q(t)$\n",
    "\n",
    "Find $J(t)$ such that $\\frac{{\\rm d}J(t)x(t)}{{\\rm d}t} = J(t)\\frac{{\\rm d}x(t)}{{\\rm d}t} + x(t)\\frac{{\\rm d}J(t)}{{\\rm d}t} = J(t)Q(t)$\n",
    "\n",
    "Then set $\\frac{{\\rm d}J(t)}{{\\rm d}t} = JP$, we got $J(t) = \\exp(\\int P(t){\\rm d}t)$\n",
    "\n",
    "solve $\\frac{{\\rm d}J(t)x(t)}{{\\rm d}t} = J(t)Q(t)$, we could get the solution"
   ],
   "metadata": {}
  },
  {
   "cell_type": "code",
   "execution_count": 94,
   "source": [
    "## e.g.1\n",
    "V, v, m, t = sym.symbols('V v m t', positive=True)\n",
    "s = sym.symbols('s', cls=sym.Function)\n",
    "deqn1 = sym.Eq(s(t).diff(t) + v/V*s(t), m/V)\n",
    "deqn1"
   ],
   "outputs": [
    {
     "output_type": "execute_result",
     "data": {
      "text/latex": [
       "$\\displaystyle \\frac{d}{d t} s{\\left(t \\right)} + \\frac{v s{\\left(t \\right)}}{V} = \\frac{m}{V}$"
      ],
      "text/plain": [
       "Eq(Derivative(s(t), t) + v*s(t)/V, m/V)"
      ]
     },
     "metadata": {},
     "execution_count": 94
    }
   ],
   "metadata": {}
  },
  {
   "cell_type": "code",
   "execution_count": 95,
   "source": [
    "soln1 = sym.dsolve(deqn1, s(t), ics={s(0):0})\n",
    "soln1"
   ],
   "outputs": [
    {
     "output_type": "execute_result",
     "data": {
      "text/latex": [
       "$\\displaystyle s{\\left(t \\right)} = \\frac{m + e^{v \\left(\\frac{\\log{\\left(m \\right)} + i \\pi}{v} - \\frac{t}{V}\\right)}}{v}$"
      ],
      "text/plain": [
       "Eq(s(t), (m + exp(v*((log(m) + I*pi)/v - t/V)))/v)"
      ]
     },
     "metadata": {},
     "execution_count": 95
    }
   ],
   "metadata": {}
  },
  {
   "cell_type": "code",
   "execution_count": 96,
   "source": [
    "sym.limit(soln1.args[1], t, sym.oo)"
   ],
   "outputs": [
    {
     "output_type": "execute_result",
     "data": {
      "text/latex": [
       "$\\displaystyle \\frac{m}{v}$"
      ],
      "text/plain": [
       "m/v"
      ]
     },
     "metadata": {},
     "execution_count": 96
    }
   ],
   "metadata": {}
  },
  {
   "cell_type": "markdown",
   "source": [
    "## Separable form\n",
    "$\\frac{{\\rm d}x}{{\\rm d}t} = f(t, x)$\n",
    "\n",
    "If $f(t, x) = g(t)h(x)$, then $\\frac{1}{h(x)}\\frac{{\\rm d}x}{{\\rm d}t} = g(t)$\n",
    "\n",
    "Integration with respect to $t$ gives $\\int \\frac{1}{h(x)}\\frac{{\\rm d}x}{{\\rm d}t}{\\rm d}t = \\int g(t) {\\rm d}t$\n",
    "\n",
    "Finally, $\\int \\frac{1}{h(x)}{\\rm d}x = \\int g(t) {\\rm d}t$\n",
    "\n",
    "If both integrals can be evaluated, we can get an analytic solution"
   ],
   "metadata": {}
  },
  {
   "cell_type": "code",
   "execution_count": 32,
   "source": [
    "## e.g.2\n",
    "t = sym.symbols('t')\n",
    "x = sym.symbols('x', cls=sym.Function)\n",
    "deqn2 = sym.Eq(x(t).diff(t), -t/x(t))\n",
    "deqn2"
   ],
   "outputs": [
    {
     "output_type": "execute_result",
     "data": {
      "text/latex": [
       "$\\displaystyle \\frac{d}{d t} x{\\left(t \\right)} = - \\frac{t}{x{\\left(t \\right)}}$"
      ],
      "text/plain": [
       "Eq(Derivative(x(t), t), -t/x(t))"
      ]
     },
     "metadata": {},
     "execution_count": 32
    }
   ],
   "metadata": {}
  },
  {
   "cell_type": "code",
   "execution_count": 55,
   "source": [
    "soln2 = sym.dsolve(deqn2, x(t))\n",
    "soln2"
   ],
   "outputs": [
    {
     "output_type": "execute_result",
     "data": {
      "text/plain": [
       "[Eq(x(t), -sqrt(C1 - t**2)), Eq(x(t), sqrt(C1 - t**2))]"
      ]
     },
     "metadata": {},
     "execution_count": 55
    }
   ],
   "metadata": {}
  },
  {
   "cell_type": "code",
   "execution_count": 57,
   "source": [
    "## e.g.3\n",
    "t = sym.symbols('t')\n",
    "x = sym.symbols('x', cls=sym.Function)\n",
    "deqn3 = sym.Eq(x(t).diff(t), t/(x(t)**2))\n",
    "deqn3"
   ],
   "outputs": [
    {
     "output_type": "execute_result",
     "data": {
      "text/latex": [
       "$\\displaystyle \\frac{d}{d t} x{\\left(t \\right)} = \\frac{t}{x^{2}{\\left(t \\right)}}$"
      ],
      "text/plain": [
       "Eq(Derivative(x(t), t), t/x(t)**2)"
      ]
     },
     "metadata": {},
     "execution_count": 57
    }
   ],
   "metadata": {}
  },
  {
   "cell_type": "code",
   "execution_count": 58,
   "source": [
    "soln3 = sym.dsolve(deqn3, x(t))\n",
    "soln3"
   ],
   "outputs": [
    {
     "output_type": "execute_result",
     "data": {
      "text/plain": [
       "[Eq(x(t), (C1 + 3*t**2/2)**(1/3)),\n",
       " Eq(x(t), (-1 - sqrt(3)*I)*(C1 + 3*t**2/2)**(1/3)/2),\n",
       " Eq(x(t), (-1 + sqrt(3)*I)*(C1 + 3*t**2/2)**(1/3)/2)]"
      ]
     },
     "metadata": {},
     "execution_count": 58
    }
   ],
   "metadata": {}
  },
  {
   "cell_type": "code",
   "execution_count": 140,
   "source": [
    "## supplyment ODE example\n",
    "f = sym.symbols('f', cls=sym.Function)\n",
    "x = sym.symbols('x')\n",
    "eq = sym.Eq(f(x).diff(x,1)+f(x)+f(x)**2, 0)\n",
    "eq"
   ],
   "outputs": [
    {
     "output_type": "execute_result",
     "data": {
      "text/latex": [
       "$\\displaystyle f^{2}{\\left(x \\right)} + f{\\left(x \\right)} + \\frac{d}{d x} f{\\left(x \\right)} = 0$"
      ],
      "text/plain": [
       "Eq(f(x)**2 + f(x) + Derivative(f(x), x), 0)"
      ]
     },
     "metadata": {},
     "execution_count": 140
    }
   ],
   "metadata": {}
  },
  {
   "cell_type": "code",
   "execution_count": 141,
   "source": [
    "so = sym.dsolve(eq, f(x), ics={f(0):1})\n",
    "so"
   ],
   "outputs": [
    {
     "output_type": "execute_result",
     "data": {
      "text/latex": [
       "$\\displaystyle f{\\left(x \\right)} = - \\frac{1}{2 \\left(\\frac{1}{2} - e^{x}\\right)}$"
      ],
      "text/plain": [
       "Eq(f(x), -1/(2*(1/2 - exp(x))))"
      ]
     },
     "metadata": {},
     "execution_count": 141
    }
   ],
   "metadata": {}
  },
  {
   "cell_type": "code",
   "execution_count": 145,
   "source": [
    "a = np.linspace(-1, 1, 1000)\n",
    "y = [ so.subs(x, i).evalf().args[1] for i in a]\n",
    "\n",
    "plt.plot(a, y)\n",
    "plt.show()"
   ],
   "outputs": [
    {
     "output_type": "display_data",
     "data": {
      "image/png": "[encoded data removed]",
      "text/plain": [
       "<Figure size 432x288 with 1 Axes>"
      ]
     },
     "metadata": {
      "needs_background": "light"
     }
    }
   ],
   "metadata": {}
  },
  {
   "cell_type": "code",
   "execution_count": 151,
   "source": [
    "## e.g.4 logistic equation\n",
    "t, b, d = sym.symbols('t beta delta')\n",
    "P = sym.symbols('P', cls=sym.Function)\n",
    "deqn4 = sym.Eq(P(t).diff(t), P(t)*(b-d*P(t)))\n",
    "deqn4\n"
   ],
   "outputs": [
    {
     "output_type": "execute_result",
     "data": {
      "text/latex": [
       "$\\displaystyle \\frac{d}{d t} P{\\left(t \\right)} = \\left(\\beta - \\delta P{\\left(t \\right)}\\right) P{\\left(t \\right)}$"
      ],
      "text/plain": [
       "Eq(Derivative(P(t), t), (beta - delta*P(t))*P(t))"
      ]
     },
     "metadata": {},
     "execution_count": 151
    }
   ],
   "metadata": {}
  },
  {
   "cell_type": "code",
   "execution_count": 158,
   "source": [
    "soln4 = sym.dsolve(deqn4, P(t), ics={P(0):800})\n",
    "so = soln4.subs({d:0.001, b:1})\n",
    "so"
   ],
   "outputs": [
    {
     "output_type": "execute_result",
     "data": {
      "text/latex": [
       "$\\displaystyle P{\\left(t \\right)} = \\frac{1000.0}{1 + 0.25 e^{- t}}$"
      ],
      "text/plain": [
       "Eq(P(t), 1000.0/(1 + 0.25*exp(-t)))"
      ]
     },
     "metadata": {},
     "execution_count": 158
    }
   ],
   "metadata": {}
  },
  {
   "cell_type": "code",
   "execution_count": 160,
   "source": [
    "x = np.linspace(0, 50, 1000)\n",
    "y = [ so.subs(t, i).args[1]  for i in x]\n",
    "plt.plot(x, y)\n",
    "plt.show()"
   ],
   "outputs": [
    {
     "output_type": "display_data",
     "data": {
      "image/png": "[encoded data removed]",
      "text/plain": [
       "<Figure size 432x288 with 1 Axes>"
      ]
     },
     "metadata": {
      "needs_background": "light"
     }
    }
   ],
   "metadata": {}
  },
  {
   "cell_type": "markdown",
   "source": [
    "## Exact form\n",
    "$M(t, x) + N(t, x)\\frac{{\\rm d}x}{{\\rm d}t} = 0$\n",
    "\n",
    "If there exists a function $F(t, x)$ such that $\\begin{cases} \\frac{\\partial F}{\\partial t} &= M(t, x) \\\\ \\frac{\\partial F}{\\partial x} &= N(t, x) \\end{cases}$, we say it to be __exact__\n",
    "\n",
    "such a function $F(t, x)$ exists as long as $\\frac{\\partial M}{\\partial x} = \\frac{\\partial N}{\\partial t}$, and the solution is $F(t, x) = C$"
   ],
   "metadata": {}
  },
  {
   "cell_type": "code",
   "execution_count": 161,
   "source": [
    "## e.g.5\n",
    "t = sym.symbols('t')\n",
    "x = sym.symbols('x', cls=sym.Function)\n",
    "deqn5 = sym.Eq(x(t).diff(t), (9-12*t-5*x(t))/(5*t+2*x(t)-4) )\n",
    "deqn5"
   ],
   "outputs": [
    {
     "output_type": "execute_result",
     "data": {
      "text/latex": [
       "$\\displaystyle \\frac{d}{d t} x{\\left(t \\right)} = \\frac{- 12 t - 5 x{\\left(t \\right)} + 9}{5 t + 2 x{\\left(t \\right)} - 4}$"
      ],
      "text/plain": [
       "Eq(Derivative(x(t), t), (-12*t - 5*x(t) + 9)/(5*t + 2*x(t) - 4))"
      ]
     },
     "metadata": {},
     "execution_count": 161
    }
   ],
   "metadata": {}
  },
  {
   "cell_type": "code",
   "execution_count": 162,
   "source": [
    "soln5 = sym.dsolve(deqn5, x(t))\n",
    "soln5"
   ],
   "outputs": [
    {
     "output_type": "execute_result",
     "data": {
      "text/plain": [
       "[Eq(x(t), -5*t/2 - sqrt(C1 + t**2 - 4*t)/2 + 2),\n",
       " Eq(x(t), -5*t/2 + sqrt(C1 + t**2 - 4*t)/2 + 2)]"
      ]
     },
     "metadata": {},
     "execution_count": 162
    }
   ],
   "metadata": {}
  },
  {
   "cell_type": "markdown",
   "source": [
    "## Homogeneous DEs\n",
    "$\\frac{{\\rm d}x}{{\\rm d}t} = f(\\frac{x}{t})$\n",
    "\n",
    "let $v = x/t$, then $v + t\\frac{dx}{dt} = f(v) \\Rightarrow \\frac{dx}{dt} = \\frac{f(v) - v}{t}$, which is separable."
   ],
   "metadata": {}
  },
  {
   "cell_type": "code",
   "execution_count": 165,
   "source": [
    "## e.g.6\n",
    "t = sym.symbols('t')\n",
    "x = sym.symbols('x', cls=sym.Function)\n",
    "deqn6 = sym.Eq(x(t).diff(t), (t-x(t))/(t+x(t)))\n",
    "deqn6"
   ],
   "outputs": [
    {
     "output_type": "execute_result",
     "data": {
      "text/latex": [
       "$\\displaystyle \\frac{d}{d t} x{\\left(t \\right)} = \\frac{t - x{\\left(t \\right)}}{t + x{\\left(t \\right)}}$"
      ],
      "text/plain": [
       "Eq(Derivative(x(t), t), (t - x(t))/(t + x(t)))"
      ]
     },
     "metadata": {},
     "execution_count": 165
    }
   ],
   "metadata": {}
  },
  {
   "cell_type": "code",
   "execution_count": 166,
   "source": [
    "soln6 = sym.dsolve(deqn6, x(t))\n",
    "soln6"
   ],
   "outputs": [
    {
     "output_type": "execute_result",
     "data": {
      "text/plain": [
       "[Eq(x(t), -t - sqrt(C1 + 2*t**2)), Eq(x(t), -t + sqrt(C1 + 2*t**2))]"
      ]
     },
     "metadata": {},
     "execution_count": 166
    }
   ],
   "metadata": {}
  },
  {
   "cell_type": "markdown",
   "source": [
    "## Numerical solutions\n",
    "seek the solution of the form $x(t) = \\sum\\limits_{n=0}^\\infty a_n (t-t_0)^n$"
   ],
   "metadata": {}
  },
  {
   "cell_type": "code",
   "execution_count": 167,
   "source": [
    "## e.g.7\n",
    "t = sym.symbols('t')\n",
    "x = sym.symbols('x', cls=sym.Function)\n",
    "deqn7 = sym.Eq(x(t).diff(t) + t*x(t), t**3)\n",
    "deqn7"
   ],
   "outputs": [
    {
     "output_type": "execute_result",
     "data": {
      "text/latex": [
       "$\\displaystyle t x{\\left(t \\right)} + \\frac{d}{d t} x{\\left(t \\right)} = t^{3}$"
      ],
      "text/plain": [
       "Eq(t*x(t) + Derivative(x(t), t), t**3)"
      ]
     },
     "metadata": {},
     "execution_count": 167
    }
   ],
   "metadata": {}
  },
  {
   "cell_type": "code",
   "execution_count": 168,
   "source": [
    "soln7 = sym.dsolve(deqn7, x(t), hint='1st_power_series', n=8, ics={x(0):1})\n",
    "soln7"
   ],
   "outputs": [
    {
     "output_type": "execute_result",
     "data": {
      "text/latex": [
       "$\\displaystyle x{\\left(t \\right)} = 1 - \\frac{t^{2}}{2} + \\frac{3 t^{4}}{8} - \\frac{t^{6}}{16} + O\\left(t^{8}\\right)$"
      ],
      "text/plain": [
       "Eq(x(t), 1 - t**2/2 + 3*t**4/8 - t**6/16 + O(t**8))"
      ]
     },
     "metadata": {},
     "execution_count": 168
    }
   ],
   "metadata": {}
  },
  {
   "cell_type": "code",
   "execution_count": 170,
   "source": [
    "## e.g.8\n",
    "t = sym.symbols('t')\n",
    "x = sym.symbols('x', cls=sym.Function)\n",
    "deqn8 = sym.Eq(x(t).diff(t, 2)+2*t**2*x(t).diff(t)+x(t), 0)\n",
    "deqn8"
   ],
   "outputs": [
    {
     "output_type": "execute_result",
     "data": {
      "text/latex": [
       "$\\displaystyle 2 t^{2} \\frac{d}{d t} x{\\left(t \\right)} + x{\\left(t \\right)} + \\frac{d^{2}}{d t^{2}} x{\\left(t \\right)} = 0$"
      ],
      "text/plain": [
       "Eq(2*t**2*Derivative(x(t), t) + x(t) + Derivative(x(t), (t, 2)), 0)"
      ]
     },
     "metadata": {},
     "execution_count": 170
    }
   ],
   "metadata": {}
  },
  {
   "cell_type": "code",
   "execution_count": 178,
   "source": [
    "soln8 = sym.dsolve(deqn8, x(t), hint='2nd_power_series_ordinary', n=6)\n",
    "soln8"
   ],
   "outputs": [
    {
     "output_type": "execute_result",
     "data": {
      "text/latex": [
       "$\\displaystyle x{\\left(t \\right)} = C_{2} \\left(\\frac{t^{4}}{24} - \\frac{t^{2}}{2} + 1\\right) + C_{1} t \\left(- \\frac{t^{3}}{6} - \\frac{t^{2}}{6} + 1\\right) + O\\left(t^{6}\\right)$"
      ],
      "text/plain": [
       "Eq(x(t), C2*(t**4/24 - t**2/2 + 1) + C1*t*(-t**3/6 - t**2/6 + 1) + O(t**6))"
      ]
     },
     "metadata": {},
     "execution_count": 178
    }
   ],
   "metadata": {}
  },
  {
   "cell_type": "code",
   "execution_count": 183,
   "source": [
    "def ODE2(X, t):\n",
    "    x, y = X\n",
    "    dxdt = y\n",
    "    dydt = x - t**2*y\n",
    "    return [dxdt, dydt]\n",
    "\n",
    "X0 = [1, 0] # initial condition\n",
    "t = np.linspace(0, 10, 1000)\n",
    "sol = odeint(ODE2, X0, t)\n",
    "x = sol[:, 0]\n",
    "y = sol[:, 1]"
   ],
   "outputs": [],
   "metadata": {}
  },
  {
   "cell_type": "code",
   "execution_count": 186,
   "source": [
    "fig, ax = plt.subplots()\n",
    "ax.plot(t,x,label='Numerical')\n",
    "ax.plot(t, 1 + t**2/2 + t**4/24, 'r-', label='Truncated series')\n",
    "plt.xlabel(\"t\", fontsize=15)\n",
    "plt.ylabel(\"x\", fontsize=15)\n",
    "plt.tick_params(labelsize=15)\n",
    "plt.xlim(0, 4)\n",
    "plt.ylim(0, 4)\n",
    "ax.legend(loc='lower center', shadow=True)\n",
    "plt.show()"
   ],
   "outputs": [
    {
     "output_type": "display_data",
     "data": {
      "image/png": "[encoded data removed]",
      "text/plain": [
       "<Figure size 432x288 with 1 Axes>"
      ]
     },
     "metadata": {
      "needs_background": "light"
     }
    }
   ],
   "metadata": {}
  },
  {
   "cell_type": "code",
   "execution_count": null,
   "source": [],
   "outputs": [],
   "metadata": {}
  },
  {
   "cell_type": "code",
   "execution_count": null,
   "source": [],
   "outputs": [],
   "metadata": {}
  }
 ],
 "metadata": {
  "orig_nbformat": 4,
  "language_info": {
   "name": "python",
   "version": "3.8.5",
   "mimetype": "text/x-python",
   "codemirror_mode": {
    "name": "ipython",
    "version": 3
   },
   "pygments_lexer": "ipython3",
   "nbconvert_exporter": "python",
   "file_extension": ".py"
  },
  "kernelspec": {
   "name": "python3",
   "display_name": "Python 3.8.5 64-bit ('base': conda)"
  },
  "interpreter": {
   "hash": "b8ed9b0e84536dd760bbc1c48b373550d24bdf6529317bc235fe1e0dbde68705"
  }
 },
 "nbformat": 4,
 "nbformat_minor": 2
}