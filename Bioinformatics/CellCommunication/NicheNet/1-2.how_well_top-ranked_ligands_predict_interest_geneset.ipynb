{
 "cells": [
  {
   "cell_type": "code",
   "execution_count": 2,
   "metadata": {
    "vscode": {
     "languageId": "r"
    }
   },
   "outputs": [],
   "source": [
    "library(nichenetr)\n",
    "library(tidyverse)"
   ]
  },
  {
   "cell_type": "code",
   "execution_count": 3,
   "metadata": {
    "vscode": {
     "languageId": "r"
    }
   },
   "outputs": [],
   "source": [
    "hnscc_expression = readRDS(\"./data/hnscc_expression.rds\")\n",
    "expression = hnscc_expression$expression\n",
    "sample_info = hnscc_expression$sample_info # contains meta-information about the cells"
   ]
  },
  {
   "cell_type": "code",
   "execution_count": 4,
   "metadata": {
    "vscode": {
     "languageId": "r"
    }
   },
   "outputs": [],
   "source": [
    "tumors_remove = c(\"HN10\",\"HN\",\"HN12\", \"HN13\", \"HN24\", \"HN7\", \"HN8\",\"HN23\")\n",
    "\n",
    "CAF_ids = sample_info %>% filter(`Lymph node` == 0 & !(tumor %in% tumors_remove) & `non-cancer cell type` == \"CAF\") %>% pull(cell)\n",
    "malignant_ids = sample_info %>% filter(`Lymph node` == 0 & !(tumor %in% tumors_remove) & `classified  as cancer cell` == 1) %>% pull(cell)\n",
    "\n",
    "expressed_genes_CAFs = expression[CAF_ids,] %>% apply(2,function(x){10*(2**x - 1)}) %>% apply(2,function(x){log2(mean(x) + 1)}) %>% .[. >= 4] %>% names()\n",
    "expressed_genes_malignant = expression[malignant_ids,] %>% apply(2,function(x){10*(2**x - 1)}) %>% apply(2,function(x){log2(mean(x) + 1)}) %>% .[. >= 4] %>% names()\n"
   ]
  },
  {
   "cell_type": "code",
   "execution_count": 6,
   "metadata": {
    "vscode": {
     "languageId": "r"
    }
   },
   "outputs": [
    {
     "name": "stderr",
     "output_type": "stream",
     "text": [
      "\u001b[1mRows: \u001b[22m\u001b[34m100\u001b[39m \u001b[1mColumns: \u001b[22m\u001b[34m1\u001b[39m\n",
      "\u001b[36m──\u001b[39m \u001b[1mColumn specification\u001b[22m \u001b[36m────────────────────────────────────────────────────────\u001b[39m\n",
      "\u001b[1mDelimiter:\u001b[22m \"\\t\"\n",
      "\u001b[31mchr\u001b[39m (1): gene\n",
      "\n",
      "\u001b[36mℹ\u001b[39m Use `spec()` to retrieve the full column specification for this data.\n",
      "\u001b[36mℹ\u001b[39m Specify the column types or set `show_col_types = FALSE` to quiet this message.\n"
     ]
    }
   ],
   "source": [
    "ligand_target_matrix = readRDS(\"./data/ligand_target_matrix.rds\")\n",
    "pemt_geneset = readr::read_tsv(\"./data/pemt_signature.txt\", col_names = \"gene\") %>% pull(gene) %>% .[. %in% rownames(ligand_target_matrix)]\n",
    "background_expressed_genes = expressed_genes_malignant %>% .[. %in% rownames(ligand_target_matrix)]\n"
   ]
  },
  {
   "cell_type": "code",
   "execution_count": 7,
   "metadata": {
    "vscode": {
     "languageId": "r"
    }
   },
   "outputs": [
    {
     "data": {
      "text/html": [
       "<style>\n",
       ".list-inline {list-style: none; margin:0; padding: 0}\n",
       ".list-inline>li {display: inline-block}\n",
       ".list-inline>li:not(:last-child)::after {content: \"\\00b7\"; padding: 0 .5ex}\n",
       "</style>\n",
       "<ol class=list-inline><li>'HGF'</li><li>'TNFSF10'</li><li>'TGFB2'</li><li>'TGFB3'</li><li>'INHBA'</li><li>'CD99'</li></ol>\n"
      ],
      "text/latex": [
       "\\begin{enumerate*}\n",
       "\\item 'HGF'\n",
       "\\item 'TNFSF10'\n",
       "\\item 'TGFB2'\n",
       "\\item 'TGFB3'\n",
       "\\item 'INHBA'\n",
       "\\item 'CD99'\n",
       "\\end{enumerate*}\n"
      ],
      "text/markdown": [
       "1. 'HGF'\n",
       "2. 'TNFSF10'\n",
       "3. 'TGFB2'\n",
       "4. 'TGFB3'\n",
       "5. 'INHBA'\n",
       "6. 'CD99'\n",
       "\n",
       "\n"
      ],
      "text/plain": [
       "[1] \"HGF\"     \"TNFSF10\" \"TGFB2\"   \"TGFB3\"   \"INHBA\"   \"CD99\"   "
      ]
     },
     "metadata": {},
     "output_type": "display_data"
    }
   ],
   "source": [
    "lr_network = readRDS(\"./data/lr_network.rds\")\n",
    "\n",
    "ligands = lr_network %>% pull(from) %>% unique()\n",
    "expressed_ligands = intersect(ligands,expressed_genes_CAFs)\n",
    "\n",
    "receptors = lr_network %>% pull(to) %>% unique()\n",
    "expressed_receptors = intersect(receptors,expressed_genes_malignant)\n",
    "\n",
    "potential_ligands = lr_network %>% filter(from %in% expressed_ligands & to %in% expressed_receptors) %>% pull(from) %>% unique()\n",
    "head(potential_ligands)"
   ]
  },
  {
   "cell_type": "code",
   "execution_count": 9,
   "metadata": {
    "vscode": {
     "languageId": "r"
    }
   },
   "outputs": [],
   "source": [
    "ligand_activities = predict_ligand_activities(geneset = pemt_geneset, background_expressed_genes = background_expressed_genes, ligand_target_matrix = ligand_target_matrix, potential_ligands = potential_ligands)\n",
    "best_upstream_ligands = ligand_activities %>% top_n(20, pearson) %>% arrange(-pearson) %>% pull(test_ligand)\n"
   ]
  },
  {
   "cell_type": "markdown",
   "metadata": {},
   "source": [
    "利用top-ranked ligands预测基因是否属于p-EMT，并评估分类效果"
   ]
  },
  {
   "cell_type": "code",
   "execution_count": 11,
   "metadata": {
    "vscode": {
     "languageId": "r"
    }
   },
   "outputs": [],
   "source": [
    "k = 3 # 3-fold\n",
    "n = 2 # 2 rounds\n",
    "\n",
    "pemt_gene_predictions_top20_list = seq(n) %>% lapply(assess_rf_class_probabilities, folds = k, geneset = pemt_geneset, background_expressed_genes = background_expressed_genes, ligands_oi = best_upstream_ligands, ligand_target_matrix = ligand_target_matrix)\n"
   ]
  },
  {
   "cell_type": "code",
   "execution_count": 12,
   "metadata": {
    "vscode": {
     "languageId": "r"
    }
   },
   "outputs": [],
   "source": [
    "# get performance: auroc-aupr-pearson\n",
    "target_prediction_performances_cv = pemt_gene_predictions_top20_list %>% lapply(classification_evaluation_continuous_pred_wrapper) %>% bind_rows() %>% mutate(round=seq(1:nrow(.)))"
   ]
  },
  {
   "cell_type": "code",
   "execution_count": 13,
   "metadata": {
    "vscode": {
     "languageId": "r"
    }
   },
   "outputs": [
    {
     "data": {
      "text/html": [
       "0.731814846190317"
      ],
      "text/latex": [
       "0.731814846190317"
      ],
      "text/markdown": [
       "0.731814846190317"
      ],
      "text/plain": [
       "[1] 0.7318148"
      ]
     },
     "metadata": {},
     "output_type": "display_data"
    },
    {
     "data": {
      "text/html": [
       "0.0845525819130535"
      ],
      "text/latex": [
       "0.0845525819130535"
      ],
      "text/markdown": [
       "0.0845525819130535"
      ],
      "text/plain": [
       "[1] 0.08455258"
      ]
     },
     "metadata": {},
     "output_type": "display_data"
    },
    {
     "data": {
      "text/html": [
       "0.175171182013998"
      ],
      "text/latex": [
       "0.175171182013998"
      ],
      "text/markdown": [
       "0.175171182013998"
      ],
      "text/plain": [
       "[1] 0.1751712"
      ]
     },
     "metadata": {},
     "output_type": "display_data"
    }
   ],
   "source": [
    "target_prediction_performances_cv$auroc %>% mean()\n",
    "target_prediction_performances_cv$aupr %>% mean()\n",
    "target_prediction_performances_cv$pearson %>% mean()"
   ]
  },
  {
   "cell_type": "markdown",
   "metadata": {},
   "source": [
    "评估属于感兴趣的基因集是否被top-predicted, 此处利用前5% predicted target"
   ]
  },
  {
   "cell_type": "code",
   "execution_count": 16,
   "metadata": {
    "vscode": {
     "languageId": "r"
    }
   },
   "outputs": [],
   "source": [
    "target_prediction_performances_discrete_cv = pemt_gene_predictions_top20_list %>% lapply(calculate_fraction_top_predicted, quantile_cutoff = 0.95) %>% bind_rows() %>% ungroup() %>% mutate(round=rep(1:length(pemt_gene_predictions_top20_list), each = 2))"
   ]
  },
  {
   "cell_type": "code",
   "execution_count": null,
   "metadata": {
    "vscode": {
     "languageId": "r"
    }
   },
   "outputs": [],
   "source": [
    "# 属于前5%的p-EMT gene\n",
    "target_prediction_performances_discrete_cv %>% filter(true_target) %>% .$fraction_positive_predicted %>% mean()\n",
    "# 属于前5%的非p-EMT gene\n",
    "target_prediction_performances_discrete_cv %>% filter(!true_target) %>% .$fraction_positive_predicted %>% mean()"
   ]
  },
  {
   "cell_type": "code",
   "execution_count": 17,
   "metadata": {
    "vscode": {
     "languageId": "r"
    }
   },
   "outputs": [
    {
     "data": {
      "text/html": [
       "8.38652894527161e-11"
      ],
      "text/latex": [
       "8.38652894527161e-11"
      ],
      "text/markdown": [
       "8.38652894527161e-11"
      ],
      "text/plain": [
       "[1] 8.386529e-11"
      ]
     },
     "metadata": {},
     "output_type": "display_data"
    }
   ],
   "source": [
    "# p-EMT是否在前5%富集\n",
    "target_prediction_performances_discrete_fisher = pemt_gene_predictions_top20_list %>% lapply(calculate_fraction_top_predicted_fisher, quantile_cutoff = 0.95) \n",
    "target_prediction_performances_discrete_fisher %>% unlist() %>% mean()"
   ]
  },
  {
   "cell_type": "code",
   "execution_count": 18,
   "metadata": {
    "vscode": {
     "languageId": "r"
    }
   },
   "outputs": [
    {
     "data": {
      "text/html": [
       "<table class=\"dataframe\">\n",
       "<caption>A tibble: 31 × 4</caption>\n",
       "<thead>\n",
       "\t<tr><th scope=col>gene</th><th scope=col>true_target</th><th scope=col>predicted_top_target_round1</th><th scope=col>predicted_top_target_round2</th></tr>\n",
       "\t<tr><th scope=col>&lt;chr&gt;</th><th scope=col>&lt;lgl&gt;</th><th scope=col>&lt;lgl&gt;</th><th scope=col>&lt;lgl&gt;</th></tr>\n",
       "</thead>\n",
       "<tbody>\n",
       "\t<tr><td>MMP1     </td><td>TRUE</td><td>TRUE</td><td>TRUE</td></tr>\n",
       "\t<tr><td>COL1A1   </td><td>TRUE</td><td>TRUE</td><td>TRUE</td></tr>\n",
       "\t<tr><td>F3       </td><td>TRUE</td><td>TRUE</td><td>TRUE</td></tr>\n",
       "\t<tr><td>MT2A     </td><td>TRUE</td><td>TRUE</td><td>TRUE</td></tr>\n",
       "\t<tr><td>PLAU     </td><td>TRUE</td><td>TRUE</td><td>TRUE</td></tr>\n",
       "\t<tr><td>MMP2     </td><td>TRUE</td><td>TRUE</td><td>TRUE</td></tr>\n",
       "\t<tr><td>IGFBP3   </td><td>TRUE</td><td>TRUE</td><td>TRUE</td></tr>\n",
       "\t<tr><td>MMP10    </td><td>TRUE</td><td>TRUE</td><td>TRUE</td></tr>\n",
       "\t<tr><td>TNC      </td><td>TRUE</td><td>TRUE</td><td>TRUE</td></tr>\n",
       "\t<tr><td>TPM1     </td><td>TRUE</td><td>TRUE</td><td>TRUE</td></tr>\n",
       "\t<tr><td>SERPINE1 </td><td>TRUE</td><td>TRUE</td><td>TRUE</td></tr>\n",
       "\t<tr><td>TIMP3    </td><td>TRUE</td><td>TRUE</td><td>TRUE</td></tr>\n",
       "\t<tr><td>PTHLH    </td><td>TRUE</td><td>TRUE</td><td>TRUE</td></tr>\n",
       "\t<tr><td>STON2    </td><td>TRUE</td><td>TRUE</td><td>  NA</td></tr>\n",
       "\t<tr><td>GJA1     </td><td>TRUE</td><td>TRUE</td><td>TRUE</td></tr>\n",
       "\t<tr><td>DKK3     </td><td>TRUE</td><td>TRUE</td><td>  NA</td></tr>\n",
       "\t<tr><td>CDH13    </td><td>TRUE</td><td>TRUE</td><td>TRUE</td></tr>\n",
       "\t<tr><td>THBS1    </td><td>TRUE</td><td>TRUE</td><td>  NA</td></tr>\n",
       "\t<tr><td>COL17A1  </td><td>TRUE</td><td>TRUE</td><td>  NA</td></tr>\n",
       "\t<tr><td>ANXA8L1  </td><td>TRUE</td><td>TRUE</td><td>  NA</td></tr>\n",
       "\t<tr><td>COL4A2   </td><td>TRUE</td><td>TRUE</td><td>TRUE</td></tr>\n",
       "\t<tr><td>NAGK     </td><td>TRUE</td><td>TRUE</td><td>TRUE</td></tr>\n",
       "\t<tr><td>TNFRSF12A</td><td>TRUE</td><td>TRUE</td><td>  NA</td></tr>\n",
       "\t<tr><td>LAMA3    </td><td>TRUE</td><td>TRUE</td><td>  NA</td></tr>\n",
       "\t<tr><td>TPM4     </td><td>TRUE</td><td>TRUE</td><td>  NA</td></tr>\n",
       "\t<tr><td>LAMC2    </td><td>TRUE</td><td>TRUE</td><td>TRUE</td></tr>\n",
       "\t<tr><td>INHBA    </td><td>TRUE</td><td>  NA</td><td>TRUE</td></tr>\n",
       "\t<tr><td>FSTL3    </td><td>TRUE</td><td>  NA</td><td>TRUE</td></tr>\n",
       "\t<tr><td>P4HA2    </td><td>TRUE</td><td>  NA</td><td>TRUE</td></tr>\n",
       "\t<tr><td>ITGB1    </td><td>TRUE</td><td>  NA</td><td>TRUE</td></tr>\n",
       "\t<tr><td>ITGB6    </td><td>TRUE</td><td>  NA</td><td>TRUE</td></tr>\n",
       "</tbody>\n",
       "</table>\n"
      ],
      "text/latex": [
       "A tibble: 31 × 4\n",
       "\\begin{tabular}{llll}\n",
       " gene & true\\_target & predicted\\_top\\_target\\_round1 & predicted\\_top\\_target\\_round2\\\\\n",
       " <chr> & <lgl> & <lgl> & <lgl>\\\\\n",
       "\\hline\n",
       "\t MMP1      & TRUE & TRUE & TRUE\\\\\n",
       "\t COL1A1    & TRUE & TRUE & TRUE\\\\\n",
       "\t F3        & TRUE & TRUE & TRUE\\\\\n",
       "\t MT2A      & TRUE & TRUE & TRUE\\\\\n",
       "\t PLAU      & TRUE & TRUE & TRUE\\\\\n",
       "\t MMP2      & TRUE & TRUE & TRUE\\\\\n",
       "\t IGFBP3    & TRUE & TRUE & TRUE\\\\\n",
       "\t MMP10     & TRUE & TRUE & TRUE\\\\\n",
       "\t TNC       & TRUE & TRUE & TRUE\\\\\n",
       "\t TPM1      & TRUE & TRUE & TRUE\\\\\n",
       "\t SERPINE1  & TRUE & TRUE & TRUE\\\\\n",
       "\t TIMP3     & TRUE & TRUE & TRUE\\\\\n",
       "\t PTHLH     & TRUE & TRUE & TRUE\\\\\n",
       "\t STON2     & TRUE & TRUE &   NA\\\\\n",
       "\t GJA1      & TRUE & TRUE & TRUE\\\\\n",
       "\t DKK3      & TRUE & TRUE &   NA\\\\\n",
       "\t CDH13     & TRUE & TRUE & TRUE\\\\\n",
       "\t THBS1     & TRUE & TRUE &   NA\\\\\n",
       "\t COL17A1   & TRUE & TRUE &   NA\\\\\n",
       "\t ANXA8L1   & TRUE & TRUE &   NA\\\\\n",
       "\t COL4A2    & TRUE & TRUE & TRUE\\\\\n",
       "\t NAGK      & TRUE & TRUE & TRUE\\\\\n",
       "\t TNFRSF12A & TRUE & TRUE &   NA\\\\\n",
       "\t LAMA3     & TRUE & TRUE &   NA\\\\\n",
       "\t TPM4      & TRUE & TRUE &   NA\\\\\n",
       "\t LAMC2     & TRUE & TRUE & TRUE\\\\\n",
       "\t INHBA     & TRUE &   NA & TRUE\\\\\n",
       "\t FSTL3     & TRUE &   NA & TRUE\\\\\n",
       "\t P4HA2     & TRUE &   NA & TRUE\\\\\n",
       "\t ITGB1     & TRUE &   NA & TRUE\\\\\n",
       "\t ITGB6     & TRUE &   NA & TRUE\\\\\n",
       "\\end{tabular}\n"
      ],
      "text/markdown": [
       "\n",
       "A tibble: 31 × 4\n",
       "\n",
       "| gene &lt;chr&gt; | true_target &lt;lgl&gt; | predicted_top_target_round1 &lt;lgl&gt; | predicted_top_target_round2 &lt;lgl&gt; |\n",
       "|---|---|---|---|\n",
       "| MMP1      | TRUE | TRUE | TRUE |\n",
       "| COL1A1    | TRUE | TRUE | TRUE |\n",
       "| F3        | TRUE | TRUE | TRUE |\n",
       "| MT2A      | TRUE | TRUE | TRUE |\n",
       "| PLAU      | TRUE | TRUE | TRUE |\n",
       "| MMP2      | TRUE | TRUE | TRUE |\n",
       "| IGFBP3    | TRUE | TRUE | TRUE |\n",
       "| MMP10     | TRUE | TRUE | TRUE |\n",
       "| TNC       | TRUE | TRUE | TRUE |\n",
       "| TPM1      | TRUE | TRUE | TRUE |\n",
       "| SERPINE1  | TRUE | TRUE | TRUE |\n",
       "| TIMP3     | TRUE | TRUE | TRUE |\n",
       "| PTHLH     | TRUE | TRUE | TRUE |\n",
       "| STON2     | TRUE | TRUE |   NA |\n",
       "| GJA1      | TRUE | TRUE | TRUE |\n",
       "| DKK3      | TRUE | TRUE |   NA |\n",
       "| CDH13     | TRUE | TRUE | TRUE |\n",
       "| THBS1     | TRUE | TRUE |   NA |\n",
       "| COL17A1   | TRUE | TRUE |   NA |\n",
       "| ANXA8L1   | TRUE | TRUE |   NA |\n",
       "| COL4A2    | TRUE | TRUE | TRUE |\n",
       "| NAGK      | TRUE | TRUE | TRUE |\n",
       "| TNFRSF12A | TRUE | TRUE |   NA |\n",
       "| LAMA3     | TRUE | TRUE |   NA |\n",
       "| TPM4      | TRUE | TRUE |   NA |\n",
       "| LAMC2     | TRUE | TRUE | TRUE |\n",
       "| INHBA     | TRUE |   NA | TRUE |\n",
       "| FSTL3     | TRUE |   NA | TRUE |\n",
       "| P4HA2     | TRUE |   NA | TRUE |\n",
       "| ITGB1     | TRUE |   NA | TRUE |\n",
       "| ITGB6     | TRUE |   NA | TRUE |\n",
       "\n"
      ],
      "text/plain": [
       "   gene      true_target predicted_top_target_round1\n",
       "1  MMP1      TRUE        TRUE                       \n",
       "2  COL1A1    TRUE        TRUE                       \n",
       "3  F3        TRUE        TRUE                       \n",
       "4  MT2A      TRUE        TRUE                       \n",
       "5  PLAU      TRUE        TRUE                       \n",
       "6  MMP2      TRUE        TRUE                       \n",
       "7  IGFBP3    TRUE        TRUE                       \n",
       "8  MMP10     TRUE        TRUE                       \n",
       "9  TNC       TRUE        TRUE                       \n",
       "10 TPM1      TRUE        TRUE                       \n",
       "11 SERPINE1  TRUE        TRUE                       \n",
       "12 TIMP3     TRUE        TRUE                       \n",
       "13 PTHLH     TRUE        TRUE                       \n",
       "14 STON2     TRUE        TRUE                       \n",
       "15 GJA1      TRUE        TRUE                       \n",
       "16 DKK3      TRUE        TRUE                       \n",
       "17 CDH13     TRUE        TRUE                       \n",
       "18 THBS1     TRUE        TRUE                       \n",
       "19 COL17A1   TRUE        TRUE                       \n",
       "20 ANXA8L1   TRUE        TRUE                       \n",
       "21 COL4A2    TRUE        TRUE                       \n",
       "22 NAGK      TRUE        TRUE                       \n",
       "23 TNFRSF12A TRUE        TRUE                       \n",
       "24 LAMA3     TRUE        TRUE                       \n",
       "25 TPM4      TRUE        TRUE                       \n",
       "26 LAMC2     TRUE        TRUE                       \n",
       "27 INHBA     TRUE          NA                       \n",
       "28 FSTL3     TRUE          NA                       \n",
       "29 P4HA2     TRUE          NA                       \n",
       "30 ITGB1     TRUE          NA                       \n",
       "31 ITGB6     TRUE          NA                       \n",
       "   predicted_top_target_round2\n",
       "1  TRUE                       \n",
       "2  TRUE                       \n",
       "3  TRUE                       \n",
       "4  TRUE                       \n",
       "5  TRUE                       \n",
       "6  TRUE                       \n",
       "7  TRUE                       \n",
       "8  TRUE                       \n",
       "9  TRUE                       \n",
       "10 TRUE                       \n",
       "11 TRUE                       \n",
       "12 TRUE                       \n",
       "13 TRUE                       \n",
       "14   NA                       \n",
       "15 TRUE                       \n",
       "16   NA                       \n",
       "17 TRUE                       \n",
       "18   NA                       \n",
       "19   NA                       \n",
       "20   NA                       \n",
       "21 TRUE                       \n",
       "22 TRUE                       \n",
       "23   NA                       \n",
       "24   NA                       \n",
       "25   NA                       \n",
       "26 TRUE                       \n",
       "27 TRUE                       \n",
       "28 TRUE                       \n",
       "29 TRUE                       \n",
       "30 TRUE                       \n",
       "31 TRUE                       "
      ]
     },
     "metadata": {},
     "output_type": "display_data"
    }
   ],
   "source": [
    "# 那个p-EMT基因在CV的每一轮中都可以良好预测\n",
    "top_predicted_genes = seq(length(pemt_gene_predictions_top20_list)) %>% lapply(get_top_predicted_genes,pemt_gene_predictions_top20_list) %>% reduce(full_join, by = c(\"gene\",\"true_target\"))\n",
    "top_predicted_genes %>% filter(true_target)"
   ]
  },
  {
   "cell_type": "code",
   "execution_count": null,
   "metadata": {
    "vscode": {
     "languageId": "r"
    }
   },
   "outputs": [],
   "source": []
  }
 ],
 "metadata": {
  "kernelspec": {
   "display_name": "R",
   "language": "R",
   "name": "ir"
  },
  "language_info": {
   "codemirror_mode": "r",
   "file_extension": ".r",
   "mimetype": "text/x-r-source",
   "name": "R",
   "pygments_lexer": "r",
   "version": "4.2.1"
  },
  "orig_nbformat": 4
 },
 "nbformat": 4,
 "nbformat_minor": 2
}
