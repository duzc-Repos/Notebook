{
 "cells": [
  {
   "cell_type": "markdown",
   "metadata": {},
   "source": [
    "* 分析内容：\n",
    "    * 1）哪些细胞群（sender）的配体 最可能影响 受体细胞（receiver）中感兴趣基因集的表达\n",
    "    * 2）哪些靶基因 守这些配体的影响最大\n",
    "\n",
    "* 数据介绍：NICHE-seq，腹股沟淋巴结的T细胞区域\n",
    "    * treatment: 72h LCMV(脑膜炎病毒) infection\n",
    "    * 在这批数据中观察到CD8 T cell在 稳定状态 和 病毒感染后有差异表达，利用NicheNet可以分析其临近的细胞是如何调控并引发观察到的差异表达的"
   ]
  },
  {
   "cell_type": "code",
   "execution_count": 2,
   "metadata": {
    "vscode": {
     "languageId": "r"
    }
   },
   "outputs": [],
   "source": [
    "library(nichenetr)\n",
    "library(Seurat)\n",
    "library(tidyverse)"
   ]
  },
  {
   "cell_type": "code",
   "execution_count": 3,
   "metadata": {
    "vscode": {
     "languageId": "r"
    }
   },
   "outputs": [],
   "source": [
    "lr_target_matrix <- readRDS(\"./data/ligand_target_matrix.rds\")\n",
    "lr_network <- readRDS(\"./data/lr_network.rds\")\n",
    "weighted_networks <- readRDS(\"./data/weighted_networks.rds\")\n",
    "#weighted_networks$lr_sig, weighted_networks$gr"
   ]
  },
  {
   "cell_type": "code",
   "execution_count": null,
   "metadata": {
    "vscode": {
     "languageId": "r"
    }
   },
   "outputs": [],
   "source": []
  }
 ],
 "metadata": {
  "kernelspec": {
   "display_name": "R",
   "language": "R",
   "name": "ir"
  },
  "language_info": {
   "codemirror_mode": "r",
   "file_extension": ".r",
   "mimetype": "text/x-r-source",
   "name": "R",
   "pygments_lexer": "r",
   "version": "4.2.1"
  },
  "orig_nbformat": 4
 },
 "nbformat": 4,
 "nbformat_minor": 2
}
