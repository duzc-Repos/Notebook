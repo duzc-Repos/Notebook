{
 "cells": [
  {
   "cell_type": "markdown",
   "metadata": {},
   "source": [
    "目的：确定从ligand到target可能的signaling path\n",
    "* 查找可能调控target gene的transcription factor，并且与配体下游最近（根据变得权重来定）\n",
    "* 确定ligand到tf的最短路，最短路上的其他gene即为mediators\n",
    "* 检查支持基因相互作用的数据来源\n",
    "\n",
    "case study: infer signaling paths between CAF-ligand and p-EMT target"
   ]
  },
  {
   "cell_type": "code",
   "execution_count": 3,
   "metadata": {
    "vscode": {
     "languageId": "r"
    }
   },
   "outputs": [],
   "source": [
    "library(nichenetr)\n",
    "library(tidyverse)\n"
   ]
  },
  {
   "cell_type": "code",
   "execution_count": 11,
   "metadata": {
    "vscode": {
     "languageId": "r"
    }
   },
   "outputs": [],
   "source": [
    "weighted_networks <- readRDS(\"./data/weighted_networks.rds\")\n",
    "ligand_tf_matrix <- readRDS(\"./data/ligand_tf_matrix.rds\")\n",
    "\n",
    "lr_network <- readRDS(\"./data/lr_network.rds\")\n",
    "sig_network <- readRDS(\"./data/signaling_network.rds\")\n",
    "gr_network <- readRDS(\"./data/gr_network.rds\")"
   ]
  },
  {
   "cell_type": "code",
   "execution_count": 14,
   "metadata": {
    "vscode": {
     "languageId": "r"
    }
   },
   "outputs": [],
   "source": [
    "ligands_all <- \"TGFB3\" # 可以是一个list\n",
    "targets_all <- c(\"TGFBI\", \"LAMC2\", \"TNC\")\n",
    "\n",
    "active_signaling_network = get_ligand_signaling_path(ligand_tf_matrix = ligand_tf_matrix, ligands_all = ligands_all, targets_all = targets_all, weighted_networks = weighted_networks)\n",
    "\n",
    "# 为可视化，对权重进行normalization (0.75, 1.75)\n",
    "active_signaling_network_min_max = active_signaling_network\n",
    "active_signaling_network_min_max$sig = active_signaling_network_min_max$sig %>% mutate( weight=((weight-min(weight))/(max(weight)-min(weight))) + 0.75 )\n",
    "active_signaling_network_min_max$gr  = active_signaling_network_min_max$gr %>% mutate( weight=((weight-min(weight))/(max(weight)-min(weight))) + 0.75 )"
   ]
  },
  {
   "cell_type": "code",
   "execution_count": 20,
   "metadata": {
    "vscode": {
     "languageId": "r"
    }
   },
   "outputs": [],
   "source": [
    "graph_min_max = diagrammer_format_signaling_graph(signaling_graph_list = active_signaling_network_min_max, ligands_all = ligands_all, targets_all = targets_all, sig_color = \"indianred\", gr_color = \"steelblue\")\n",
    "#DiagrammeR::render_graph(graph_min_max, layout = \"tree\")"
   ]
  },
  {
   "cell_type": "code",
   "execution_count": 21,
   "metadata": {
    "vscode": {
     "languageId": "r"
    }
   },
   "outputs": [
    {
     "data": {
      "text/html": [
       "<table class=\"dataframe\">\n",
       "<caption>A tibble: 6 × 5</caption>\n",
       "<thead>\n",
       "\t<tr><th scope=col>from</th><th scope=col>to</th><th scope=col>source</th><th scope=col>database</th><th scope=col>layer</th></tr>\n",
       "\t<tr><th scope=col>&lt;chr&gt;</th><th scope=col>&lt;chr&gt;</th><th scope=col>&lt;chr&gt;</th><th scope=col>&lt;chr&gt;</th><th scope=col>&lt;chr&gt;</th></tr>\n",
       "</thead>\n",
       "<tbody>\n",
       "\t<tr><td>SMAD1</td><td>TGFBI</td><td>regnetwork_source</td><td>regnetwork    </td><td>regulatory</td></tr>\n",
       "\t<tr><td>SMAD1</td><td>TGFBI</td><td>Remap_5          </td><td>Remap         </td><td>regulatory</td></tr>\n",
       "\t<tr><td>SMAD2</td><td>LAMC2</td><td>harmonizome_CHEA </td><td>harmonizome_gr</td><td>regulatory</td></tr>\n",
       "\t<tr><td>SMAD2</td><td>TGFBI</td><td>harmonizome_CHEA </td><td>harmonizome_gr</td><td>regulatory</td></tr>\n",
       "\t<tr><td>SMAD2</td><td>TNC  </td><td>harmonizome_CHEA </td><td>harmonizome_gr</td><td>regulatory</td></tr>\n",
       "\t<tr><td>SMAD2</td><td>TNC  </td><td>regnetwork_source</td><td>regnetwork    </td><td>regulatory</td></tr>\n",
       "</tbody>\n",
       "</table>\n"
      ],
      "text/latex": [
       "A tibble: 6 × 5\n",
       "\\begin{tabular}{lllll}\n",
       " from & to & source & database & layer\\\\\n",
       " <chr> & <chr> & <chr> & <chr> & <chr>\\\\\n",
       "\\hline\n",
       "\t SMAD1 & TGFBI & regnetwork\\_source & regnetwork     & regulatory\\\\\n",
       "\t SMAD1 & TGFBI & Remap\\_5           & Remap          & regulatory\\\\\n",
       "\t SMAD2 & LAMC2 & harmonizome\\_CHEA  & harmonizome\\_gr & regulatory\\\\\n",
       "\t SMAD2 & TGFBI & harmonizome\\_CHEA  & harmonizome\\_gr & regulatory\\\\\n",
       "\t SMAD2 & TNC   & harmonizome\\_CHEA  & harmonizome\\_gr & regulatory\\\\\n",
       "\t SMAD2 & TNC   & regnetwork\\_source & regnetwork     & regulatory\\\\\n",
       "\\end{tabular}\n"
      ],
      "text/markdown": [
       "\n",
       "A tibble: 6 × 5\n",
       "\n",
       "| from &lt;chr&gt; | to &lt;chr&gt; | source &lt;chr&gt; | database &lt;chr&gt; | layer &lt;chr&gt; |\n",
       "|---|---|---|---|---|\n",
       "| SMAD1 | TGFBI | regnetwork_source | regnetwork     | regulatory |\n",
       "| SMAD1 | TGFBI | Remap_5           | Remap          | regulatory |\n",
       "| SMAD2 | LAMC2 | harmonizome_CHEA  | harmonizome_gr | regulatory |\n",
       "| SMAD2 | TGFBI | harmonizome_CHEA  | harmonizome_gr | regulatory |\n",
       "| SMAD2 | TNC   | harmonizome_CHEA  | harmonizome_gr | regulatory |\n",
       "| SMAD2 | TNC   | regnetwork_source | regnetwork     | regulatory |\n",
       "\n"
      ],
      "text/plain": [
       "  from  to    source            database       layer     \n",
       "1 SMAD1 TGFBI regnetwork_source regnetwork     regulatory\n",
       "2 SMAD1 TGFBI Remap_5           Remap          regulatory\n",
       "3 SMAD2 LAMC2 harmonizome_CHEA  harmonizome_gr regulatory\n",
       "4 SMAD2 TGFBI harmonizome_CHEA  harmonizome_gr regulatory\n",
       "5 SMAD2 TNC   harmonizome_CHEA  harmonizome_gr regulatory\n",
       "6 SMAD2 TNC   regnetwork_source regnetwork     regulatory"
      ]
     },
     "metadata": {},
     "output_type": "display_data"
    }
   ],
   "source": [
    "data_source_network = infer_supporting_datasources(signaling_graph_list = active_signaling_network,lr_network = lr_network, sig_network = sig_network, gr_network = gr_network)\n",
    "head(data_source_network) "
   ]
  },
  {
   "cell_type": "markdown",
   "metadata": {},
   "source": [
    "Export to Cytoscape"
   ]
  },
  {
   "cell_type": "code",
   "execution_count": 23,
   "metadata": {
    "vscode": {
     "languageId": "r"
    }
   },
   "outputs": [],
   "source": [
    "potential_pathways <- bind_rows(active_signaling_network$sig %>% mutate(layer = \"signaling\"),\n",
    "                                active_signaling_network$gr %>% mutate(layer = \"regulatory\"))"
   ]
  },
  {
   "cell_type": "code",
   "execution_count": 24,
   "metadata": {
    "vscode": {
     "languageId": "r"
    }
   },
   "outputs": [],
   "source": [
    "write.table(potential_pathways, \"test.txt\", sep=\"\\t\", quote=F)"
   ]
  },
  {
   "cell_type": "code",
   "execution_count": null,
   "metadata": {
    "vscode": {
     "languageId": "r"
    }
   },
   "outputs": [],
   "source": []
  },
  {
   "cell_type": "code",
   "execution_count": null,
   "metadata": {
    "vscode": {
     "languageId": "r"
    }
   },
   "outputs": [],
   "source": []
  }
 ],
 "metadata": {
  "kernelspec": {
   "display_name": "R",
   "language": "R",
   "name": "ir"
  },
  "language_info": {
   "codemirror_mode": "r",
   "file_extension": ".r",
   "mimetype": "text/x-r-source",
   "name": "R",
   "pygments_lexer": "r",
   "version": "4.2.1"
  },
  "orig_nbformat": 4
 },
 "nbformat": 4,
 "nbformat_minor": 2
}
