{
 "cells": [
  {
   "cell_type": "markdown",
   "metadata": {},
   "source": [
    "# 00. Preparation"
   ]
  },
  {
   "cell_type": "markdown",
   "metadata": {},
   "source": [
    "## 00.1 install necessary and optional Python packages\n",
    "\n",
    "\n",
    "`conda install cytoolz seaborn scikit-learn statsmodels numba pytables`\n",
    "\n",
    "`conda install -c conda-forge scanpy python-igraph leidenalg`\n",
    "\n",
    "`conda install -c conda-forge louvain multicore-tsne`\n",
    "\n",
    "`pip3 install pyscenic`"
   ]
  },
  {
   "cell_type": "markdown",
   "metadata": {},
   "source": [
    "## 00.2 Download auxiliary files and expression matrix (PBMC 10k from 10x Genomics)\n",
    "`wget https://raw.githubusercontent.com/aertslab/pySCENIC/master/resources/hs_hgnc_tfs.txt`\n",
    "\n",
    "`wget https://resources.aertslab.org/cistarget/motif2tf/motifs-v9-nr.hgnc-m0.001-o0.0.tbl`\n",
    "\n",
    "`wget https://resources.aertslab.org/cistarget/databases/homo_sapiens/hg38/refseq_r80/mc9nr/gene_based/hg38__refseq-r80__10kb_up_and_down_tss.mc9nr.feather`\n",
    "\n",
    "`wget http://cf.10xgenomics.com/samples/cell-exp/3.0.0/pbmc_10k_v3/pbmc_10k_v3_filtered_feature_bc_matrix.tar.gz`\n",
    "\n",
    "`tar xvf pbmc_10k_v3_filtered_feature_bc_matrix.tar.gz`\n"
   ]
  },
  {
   "cell_type": "markdown",
   "metadata": {},
   "source": [
    "# 01. Preprocessing"
   ]
  },
  {
   "cell_type": "code",
   "execution_count": 27,
   "metadata": {},
   "outputs": [],
   "source": [
    "import numpy as np\n",
    "import pandas as pd\n",
    "\n",
    "import matplotlib.pyplot as plt\n",
    "import scanpy as sc\n",
    "import loompy as lp"
   ]
  },
  {
   "cell_type": "code",
   "execution_count": 40,
   "metadata": {},
   "outputs": [],
   "source": [
    "adata = sc.read_10x_mtx(path=\"./data/filtered_feature_bc_matrix/\", var_names=\"gene_symbols\")\n",
    "adata.var_names_make_unique()"
   ]
  },
  {
   "cell_type": "code",
   "execution_count": 56,
   "metadata": {},
   "outputs": [],
   "source": [
    "mito_genes_index = adata.var_names.str.startswith('MT-')\n",
    "adata.obs['percent_mito'] = np.ravel(np.sum(adata[:, mito_genes_index].X, axis=1) / np.sum(adata.X, axis=1))\n",
    "adata.obs['n_counts']     = np.ravel(adata.X.sum(axis=1))\n",
    "adata.obs['n_genes']      = np.ravel( (adata.X > 0).sum(axis=1) )"
   ]
  },
  {
   "cell_type": "code",
   "execution_count": 59,
   "metadata": {},
   "outputs": [],
   "source": [
    "sc.pp.filter_cells(adata, min_genes=200)\n",
    "sc.pp.filter_genes(adata, min_cells=3)\n",
    "adata = adata[adata.obs['n_genes']<4000, :]\n",
    "adata = adata[adata.obs['percent_mito']<0.15, :]"
   ]
  },
  {
   "cell_type": "code",
   "execution_count": 71,
   "metadata": {},
   "outputs": [],
   "source": [
    "import loompy as lp\n",
    "row_attrs = {\"Gene\" : np.array(adata.var_names) }\n",
    "col_attrs = {\"CellID\" : np.array(adata.obs_names),\n",
    "             \"nGene\"  : np.array(adata.obs['n_genes']),\n",
    "             \"nUMI\"   : np.array(adata.obs['n_counts'])\n",
    "             }\n",
    "lp.create(\"PBMC10k_filter.loom\", adata.X.transpose(), row_attrs, col_attrs)"
   ]
  },
  {
   "cell_type": "markdown",
   "metadata": {},
   "source": [
    "# 02. Network Inference\n",
    "\n",
    "`pyscenic grn --number_workers 4 --output adj.tsv --method grnboost2 ./PBMC10k_filter.loom ./data/hs_hgnc_tfs.txt`\n",
    "\n"
   ]
  },
  {
   "cell_type": "markdown",
   "metadata": {},
   "source": []
  }
 ],
 "metadata": {
  "interpreter": {
   "hash": "4fcc540e1488815df76e6b318595c3566285f5bc1293cc742eaa521f117eecc0"
  },
  "kernelspec": {
   "display_name": "Python 3.8.5 64-bit ('base': conda)",
   "language": "python",
   "name": "python3"
  },
  "language_info": {
   "codemirror_mode": {
    "name": "ipython",
    "version": 3
   },
   "file_extension": ".py",
   "mimetype": "text/x-python",
   "name": "python",
   "nbconvert_exporter": "python",
   "pygments_lexer": "ipython3",
   "version": "3.8.5"
  },
  "orig_nbformat": 4
 },
 "nbformat": 4,
 "nbformat_minor": 2
}
